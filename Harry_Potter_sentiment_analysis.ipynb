{
  "nbformat": 4,
  "nbformat_minor": 0,
  "metadata": {
    "colab": {
      "provenance": [],
      "authorship_tag": "ABX9TyM9hj/iTc26Baaz6aUcI9e4"
    },
    "kernelspec": {
      "name": "python3",
      "display_name": "Python 3"
    },
    "language_info": {
      "name": "python"
    }
  },
  "cells": [
    {
      "cell_type": "code",
      "execution_count": 2,
      "metadata": {
        "colab": {
          "base_uri": "https://localhost:8080/"
        },
        "id": "EdFdtr_2T1JB",
        "outputId": "379479d7-88c0-475b-d898-5a7e73914146"
      },
      "outputs": [
        {
          "output_type": "stream",
          "name": "stdout",
          "text": [
            "Looking in indexes: https://pypi.org/simple, https://us-python.pkg.dev/colab-wheels/public/simple/\n",
            "Collecting transformers\n",
            "  Downloading transformers-4.29.2-py3-none-any.whl (7.1 MB)\n",
            "\u001b[2K     \u001b[90m━━━━━━━━━━━━━━━━━━━━━━━━━━━━━━━━━━━━━━━━\u001b[0m \u001b[32m7.1/7.1 MB\u001b[0m \u001b[31m48.0 MB/s\u001b[0m eta \u001b[36m0:00:00\u001b[0m\n",
            "\u001b[?25hRequirement already satisfied: filelock in /usr/local/lib/python3.10/dist-packages (from transformers) (3.12.0)\n",
            "Collecting huggingface-hub<1.0,>=0.14.1 (from transformers)\n",
            "  Downloading huggingface_hub-0.14.1-py3-none-any.whl (224 kB)\n",
            "\u001b[2K     \u001b[90m━━━━━━━━━━━━━━━━━━━━━━━━━━━━━━━━━━━━━━\u001b[0m \u001b[32m224.5/224.5 kB\u001b[0m \u001b[31m19.9 MB/s\u001b[0m eta \u001b[36m0:00:00\u001b[0m\n",
            "\u001b[?25hRequirement already satisfied: numpy>=1.17 in /usr/local/lib/python3.10/dist-packages (from transformers) (1.22.4)\n",
            "Requirement already satisfied: packaging>=20.0 in /usr/local/lib/python3.10/dist-packages (from transformers) (23.1)\n",
            "Requirement already satisfied: pyyaml>=5.1 in /usr/local/lib/python3.10/dist-packages (from transformers) (6.0)\n",
            "Requirement already satisfied: regex!=2019.12.17 in /usr/local/lib/python3.10/dist-packages (from transformers) (2022.10.31)\n",
            "Requirement already satisfied: requests in /usr/local/lib/python3.10/dist-packages (from transformers) (2.27.1)\n",
            "Collecting tokenizers!=0.11.3,<0.14,>=0.11.1 (from transformers)\n",
            "  Downloading tokenizers-0.13.3-cp310-cp310-manylinux_2_17_x86_64.manylinux2014_x86_64.whl (7.8 MB)\n",
            "\u001b[2K     \u001b[90m━━━━━━━━━━━━━━━━━━━━━━━━━━━━━━━━━━━━━━━━\u001b[0m \u001b[32m7.8/7.8 MB\u001b[0m \u001b[31m87.8 MB/s\u001b[0m eta \u001b[36m0:00:00\u001b[0m\n",
            "\u001b[?25hRequirement already satisfied: tqdm>=4.27 in /usr/local/lib/python3.10/dist-packages (from transformers) (4.65.0)\n",
            "Requirement already satisfied: fsspec in /usr/local/lib/python3.10/dist-packages (from huggingface-hub<1.0,>=0.14.1->transformers) (2023.4.0)\n",
            "Requirement already satisfied: typing-extensions>=3.7.4.3 in /usr/local/lib/python3.10/dist-packages (from huggingface-hub<1.0,>=0.14.1->transformers) (4.5.0)\n",
            "Requirement already satisfied: urllib3<1.27,>=1.21.1 in /usr/local/lib/python3.10/dist-packages (from requests->transformers) (1.26.15)\n",
            "Requirement already satisfied: certifi>=2017.4.17 in /usr/local/lib/python3.10/dist-packages (from requests->transformers) (2022.12.7)\n",
            "Requirement already satisfied: charset-normalizer~=2.0.0 in /usr/local/lib/python3.10/dist-packages (from requests->transformers) (2.0.12)\n",
            "Requirement already satisfied: idna<4,>=2.5 in /usr/local/lib/python3.10/dist-packages (from requests->transformers) (3.4)\n",
            "Installing collected packages: tokenizers, huggingface-hub, transformers\n",
            "Successfully installed huggingface-hub-0.14.1 tokenizers-0.13.3 transformers-4.29.2\n"
          ]
        }
      ],
      "source": [
        "!pip install transformers"
      ]
    },
    {
      "cell_type": "code",
      "source": [
        "import torch\n",
        "from transformers import BertTokenizer, BertForSequenceClassification\n",
        "from sklearn.model_selection import train_test_split\n",
        "from sklearn.metrics import accuracy_score"
      ],
      "metadata": {
        "id": "kB9GzkyAeL0Z"
      },
      "execution_count": 3,
      "outputs": []
    },
    {
      "cell_type": "markdown",
      "source": [
        "### Get text files from drive folder"
      ],
      "metadata": {
        "id": "liIgOsOUe0CD"
      }
    },
    {
      "cell_type": "code",
      "source": [
        "import os"
      ],
      "metadata": {
        "id": "DfJdBl0XjaiY"
      },
      "execution_count": 6,
      "outputs": []
    },
    {
      "cell_type": "code",
      "source": [
        "from pydrive.auth import GoogleAuth\n",
        "from pydrive.drive import GoogleDrive\n",
        "\n",
        "from google.colab import drive\n",
        "\n",
        "# Mount Google Drive\n",
        "drive.mount('/content/drive')\n",
        "\n",
        "# Define the path to the folder containing your text files on Google Drive\n",
        "folder_path = '/content/drive/MyDrive/NLP analysis'\n",
        "\n",
        "# Define the desired order of labels\n",
        "label_order = {\n",
        "    'Book 1 - The Philosopher\\'s Stone.txt': 1,\n",
        "    'Book 2 - The Chamber of Secrets.txt': 2,\n",
        "    'Book 3 - The Prisoner of Azkaban.txt': 3,\n",
        "    'Book 4 - The Goblet of Fire.txt': 4,\n",
        "    'Book 5 - The Order of the Phoenix.txt': 5,\n",
        "    'Book 6 - The Half Blood Prince.txt': 6,\n",
        "    'Book 7 - The Deathly Hallows.txt': 7\n",
        "}\n",
        "\n",
        "# Prepare the training data by reading the text files\n",
        "texts = []\n",
        "labels = []\n",
        "\n",
        "for file_name in os.listdir(folder_path):\n",
        "    file_path = os.path.join(folder_path, file_name)\n",
        "    if os.path.isfile(file_path) and file_name.endswith('.txt'):\n",
        "        with open(file_path, 'r') as f:\n",
        "            text = f.read()\n",
        "            texts.append(text)\n",
        "            label = label_order.get(file_name)\n",
        "            if label is not None:\n",
        "                labels.append(label)\n",
        "\n",
        "                print(f\"File: {file_name}, Label: {label}\")"
      ],
      "metadata": {
        "colab": {
          "base_uri": "https://localhost:8080/"
        },
        "id": "ItRPlFC0eLH9",
        "outputId": "b5ea029a-220b-4a63-e76f-a0b8112ea02a"
      },
      "execution_count": 30,
      "outputs": [
        {
          "output_type": "stream",
          "name": "stdout",
          "text": [
            "Drive already mounted at /content/drive; to attempt to forcibly remount, call drive.mount(\"/content/drive\", force_remount=True).\n",
            "File: Book 4 - The Goblet of Fire.txt, Label: 4\n",
            "File: Book 2 - The Chamber of Secrets.txt, Label: 2\n",
            "File: Book 7 - The Deathly Hallows.txt, Label: 7\n",
            "File: Book 6 - The Half Blood Prince.txt, Label: 6\n",
            "File: Book 5 - The Order of the Phoenix.txt, Label: 5\n",
            "File: Book 3 - The Prisoner of Azkaban.txt, Label: 3\n",
            "File: Book 1 - The Philosopher's Stone.txt, Label: 1\n"
          ]
        }
      ]
    },
    {
      "cell_type": "code",
      "source": [],
      "metadata": {
        "colab": {
          "base_uri": "https://localhost:8080/"
        },
        "id": "WWEzyFNvkAFh",
        "outputId": "62346091-18c9-4e7a-c20a-2c1181b4f21d"
      },
      "execution_count": 25,
      "outputs": [
        {
          "output_type": "stream",
          "name": "stdout",
          "text": [
            "Some files are missing.\n",
            "['B', 'o', 'o', 'k', ' ', '1', ' ', '-', ' ', 'T', 'h', 'e', ' ', 'P', 'h', 'i', 'l', 'o', 's', 'o', 'p', 'h', 'e', 'r', \"'\", 's', ' ', 'S', 't', 'o', 'n', 'e', '.', 't', 'x', 't']\n"
          ]
        }
      ]
    },
    {
      "cell_type": "code",
      "source": [],
      "metadata": {
        "colab": {
          "base_uri": "https://localhost:8080/"
        },
        "id": "VhS23fHBj3cL",
        "outputId": "55a078c3-8703-4499-fd86-131be74449d7"
      },
      "execution_count": 26,
      "outputs": [
        {
          "output_type": "stream",
          "name": "stdout",
          "text": [
            "B\n",
            "o\n",
            "o\n",
            "k\n",
            " \n",
            "1\n",
            " \n",
            "-\n",
            " \n",
            "T\n",
            "h\n",
            "e\n",
            " \n",
            "P\n",
            "h\n",
            "i\n",
            "l\n",
            "o\n",
            "s\n",
            "o\n",
            "p\n",
            "h\n",
            "e\n",
            "r\n",
            "'\n",
            "s\n",
            " \n",
            "S\n",
            "t\n",
            "o\n",
            "n\n",
            "e\n",
            ".\n",
            "t\n",
            "x\n",
            "t\n"
          ]
        }
      ]
    },
    {
      "cell_type": "code",
      "source": [
        "for label, file_name in zip(labels, file_names):\n",
        "    print(f\"Label: {label}, File Name: {file_name}\")"
      ],
      "metadata": {
        "id": "0wxpg3pekRb4"
      },
      "execution_count": null,
      "outputs": []
    }
  ]
}